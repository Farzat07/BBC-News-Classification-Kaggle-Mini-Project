{
 "cells": [
  {
   "cell_type": "markdown",
   "id": "d121c481",
   "metadata": {
    "papermill": {
     "duration": 0.003444,
     "end_time": "2025-08-28T08:56:04.063226",
     "exception": false,
     "start_time": "2025-08-28T08:56:04.059782",
     "status": "completed"
    },
    "tags": []
   },
   "source": [
    "# BBC News Classification Kaggle Mini-Project\n",
    "\n",
    "The objectives of this mini-project are:\n",
    "\n",
    "- Perform an exploratory data analysis (EDA) procedure.\n",
    "- Build and train an unsupervised learning model using Non-negative Matrix Factorisation (NMF).\n",
    "- Build and train a supervised learning model.\n",
    "- Compare the two models."
   ]
  },
  {
   "cell_type": "markdown",
   "id": "278d4849",
   "metadata": {
    "papermill": {
     "duration": 0.002823,
     "end_time": "2025-08-28T08:56:04.069453",
     "exception": false,
     "start_time": "2025-08-28T08:56:04.066630",
     "status": "completed"
    },
    "tags": []
   },
   "source": [
    "## Project setup\n",
    "\n",
    "Import the required modules and load the datasets."
   ]
  },
  {
   "cell_type": "code",
   "execution_count": 1,
   "id": "a6c23377",
   "metadata": {
    "_cell_guid": "cb21e0d3-b613-4968-b4e3-9b5c2e1e55b0",
    "_kg_hide-input": false,
    "_uuid": "b1e57fe5-dab1-4965-8945-0377fc94189c",
    "collapsed": false,
    "execution": {
     "iopub.execute_input": "2025-08-28T08:56:04.076910Z",
     "iopub.status.busy": "2025-08-28T08:56:04.076585Z",
     "iopub.status.idle": "2025-08-28T08:56:06.245525Z",
     "shell.execute_reply": "2025-08-28T08:56:06.244261Z"
    },
    "jupyter": {
     "outputs_hidden": false
    },
    "papermill": {
     "duration": 2.175012,
     "end_time": "2025-08-28T08:56:06.247481",
     "exception": false,
     "start_time": "2025-08-28T08:56:04.072469",
     "status": "completed"
    },
    "tags": []
   },
   "outputs": [
    {
     "name": "stdout",
     "output_type": "stream",
     "text": [
      "/kaggle/input/learn-ai-bbc/BBC News Train.csv\n",
      "/kaggle/input/learn-ai-bbc/BBC News Sample Solution.csv\n",
      "/kaggle/input/learn-ai-bbc/BBC News Test.csv\n"
     ]
    }
   ],
   "source": [
    "# This Python 3 environment comes with many helpful analytics libraries installed\n",
    "# It is defined by the kaggle/python Docker image: https://github.com/kaggle/docker-python\n",
    "# For example, here's several helpful packages to load\n",
    "\n",
    "import numpy as np # linear algebra\n",
    "import pandas as pd # data processing, CSV file I/O (e.g. pd.read_csv)\n",
    "\n",
    "# Input data files are available in the read-only \"../input/\" directory\n",
    "# For example, running this (by clicking run or pressing Shift+Enter) will list all files under the input directory\n",
    "\n",
    "import os\n",
    "for dirname, _, filenames in os.walk('/kaggle/input'):\n",
    "    for filename in filenames:\n",
    "        print(os.path.join(dirname, filename))\n",
    "\n",
    "# You can write up to 20GB to the current directory (/kaggle/working/) that gets preserved as output when you create a version using \"Save & Run All\" \n",
    "# You can also write temporary files to /kaggle/temp/, but they won't be saved outside of the current session"
   ]
  },
  {
   "cell_type": "code",
   "execution_count": 2,
   "id": "dbdab42e",
   "metadata": {
    "execution": {
     "iopub.execute_input": "2025-08-28T08:56:06.256043Z",
     "iopub.status.busy": "2025-08-28T08:56:06.255251Z",
     "iopub.status.idle": "2025-08-28T08:56:08.359519Z",
     "shell.execute_reply": "2025-08-28T08:56:08.358468Z"
    },
    "papermill": {
     "duration": 2.110681,
     "end_time": "2025-08-28T08:56:08.361484",
     "exception": false,
     "start_time": "2025-08-28T08:56:06.250803",
     "status": "completed"
    },
    "tags": []
   },
   "outputs": [],
   "source": [
    "from itertools import permutations\n",
    "from sklearn.decomposition import NMF\n",
    "from sklearn.feature_extraction.text import TfidfVectorizer\n",
    "from sklearn.metrics import accuracy_score, confusion_matrix\n"
   ]
  },
  {
   "cell_type": "code",
   "execution_count": 3,
   "id": "8d728b0c",
   "metadata": {
    "_cell_guid": "3f1e8a77-d01f-46fb-b78a-1bdf5a245fee",
    "_uuid": "393c8245-ff4a-4144-85fe-28e0959595fa",
    "collapsed": false,
    "execution": {
     "iopub.execute_input": "2025-08-28T08:56:08.369179Z",
     "iopub.status.busy": "2025-08-28T08:56:08.368755Z",
     "iopub.status.idle": "2025-08-28T08:56:08.579901Z",
     "shell.execute_reply": "2025-08-28T08:56:08.578495Z"
    },
    "jupyter": {
     "outputs_hidden": false
    },
    "papermill": {
     "duration": 0.217076,
     "end_time": "2025-08-28T08:56:08.581769",
     "exception": false,
     "start_time": "2025-08-28T08:56:08.364693",
     "status": "completed"
    },
    "tags": []
   },
   "outputs": [],
   "source": [
    "data_train = pd.read_csv(\"/kaggle/input/learn-ai-bbc/BBC News Train.csv\")\n",
    "data_test = pd.read_csv(\"/kaggle/input/learn-ai-bbc/BBC News Test.csv\")"
   ]
  },
  {
   "cell_type": "markdown",
   "id": "d6b01035",
   "metadata": {
    "papermill": {
     "duration": 0.002996,
     "end_time": "2025-08-28T08:56:08.588015",
     "exception": false,
     "start_time": "2025-08-28T08:56:08.585019",
     "status": "completed"
    },
    "tags": []
   },
   "source": [
    "### Inspection"
   ]
  },
  {
   "cell_type": "code",
   "execution_count": 4,
   "id": "578aefec",
   "metadata": {
    "execution": {
     "iopub.execute_input": "2025-08-28T08:56:08.596518Z",
     "iopub.status.busy": "2025-08-28T08:56:08.596128Z",
     "iopub.status.idle": "2025-08-28T08:56:08.654912Z",
     "shell.execute_reply": "2025-08-28T08:56:08.652341Z"
    },
    "papermill": {
     "duration": 0.065913,
     "end_time": "2025-08-28T08:56:08.657337",
     "exception": false,
     "start_time": "2025-08-28T08:56:08.591424",
     "status": "completed"
    },
    "tags": []
   },
   "outputs": [
    {
     "name": "stdout",
     "output_type": "stream",
     "text": [
      "<class 'pandas.core.frame.DataFrame'>\n",
      "RangeIndex: 1490 entries, 0 to 1489\n",
      "Data columns (total 3 columns):\n",
      " #   Column     Non-Null Count  Dtype \n",
      "---  ------     --------------  ----- \n",
      " 0   ArticleId  1490 non-null   int64 \n",
      " 1   Text       1490 non-null   object\n",
      " 2   Category   1490 non-null   object\n",
      "dtypes: int64(1), object(2)\n",
      "memory usage: 35.1+ KB\n",
      "None\n"
     ]
    },
    {
     "data": {
      "text/html": [
       "<div>\n",
       "<style scoped>\n",
       "    .dataframe tbody tr th:only-of-type {\n",
       "        vertical-align: middle;\n",
       "    }\n",
       "\n",
       "    .dataframe tbody tr th {\n",
       "        vertical-align: top;\n",
       "    }\n",
       "\n",
       "    .dataframe thead th {\n",
       "        text-align: right;\n",
       "    }\n",
       "</style>\n",
       "<table border=\"1\" class=\"dataframe\">\n",
       "  <thead>\n",
       "    <tr style=\"text-align: right;\">\n",
       "      <th></th>\n",
       "      <th>ArticleId</th>\n",
       "      <th>Text</th>\n",
       "      <th>Category</th>\n",
       "    </tr>\n",
       "  </thead>\n",
       "  <tbody>\n",
       "    <tr>\n",
       "      <th>0</th>\n",
       "      <td>1833</td>\n",
       "      <td>worldcom ex-boss launches defence lawyers defe...</td>\n",
       "      <td>business</td>\n",
       "    </tr>\n",
       "    <tr>\n",
       "      <th>1</th>\n",
       "      <td>154</td>\n",
       "      <td>german business confidence slides german busin...</td>\n",
       "      <td>business</td>\n",
       "    </tr>\n",
       "    <tr>\n",
       "      <th>2</th>\n",
       "      <td>1101</td>\n",
       "      <td>bbc poll indicates economic gloom citizens in ...</td>\n",
       "      <td>business</td>\n",
       "    </tr>\n",
       "    <tr>\n",
       "      <th>3</th>\n",
       "      <td>1976</td>\n",
       "      <td>lifestyle  governs mobile choice  faster  bett...</td>\n",
       "      <td>tech</td>\n",
       "    </tr>\n",
       "    <tr>\n",
       "      <th>4</th>\n",
       "      <td>917</td>\n",
       "      <td>enron bosses in $168m payout eighteen former e...</td>\n",
       "      <td>business</td>\n",
       "    </tr>\n",
       "  </tbody>\n",
       "</table>\n",
       "</div>"
      ],
      "text/plain": [
       "   ArticleId                                               Text  Category\n",
       "0       1833  worldcom ex-boss launches defence lawyers defe...  business\n",
       "1        154  german business confidence slides german busin...  business\n",
       "2       1101  bbc poll indicates economic gloom citizens in ...  business\n",
       "3       1976  lifestyle  governs mobile choice  faster  bett...      tech\n",
       "4        917  enron bosses in $168m payout eighteen former e...  business"
      ]
     },
     "execution_count": 4,
     "metadata": {},
     "output_type": "execute_result"
    }
   ],
   "source": [
    "print(data_train.info())\n",
    "data_train.head()"
   ]
  },
  {
   "cell_type": "markdown",
   "id": "0be7a9c0",
   "metadata": {
    "papermill": {
     "duration": 0.003038,
     "end_time": "2025-08-28T08:56:08.663929",
     "exception": false,
     "start_time": "2025-08-28T08:56:08.660891",
     "status": "completed"
    },
    "tags": []
   },
   "source": [
    "### Preprocessing\n",
    "\n",
    "The preprocessing tasks under consideration are:\n",
    "\n",
    "1. Convert to lower case.\n",
    "1. Remove punctuation.\n",
    "1. Remove stopwords.\n",
    "1. Remove common/rare words identified from data exploration.\n",
    "1. Lemmatisation.\n"
   ]
  },
  {
   "cell_type": "code",
   "execution_count": 5,
   "id": "6318ff59",
   "metadata": {
    "execution": {
     "iopub.execute_input": "2025-08-28T08:56:08.672661Z",
     "iopub.status.busy": "2025-08-28T08:56:08.672276Z",
     "iopub.status.idle": "2025-08-28T08:56:08.685714Z",
     "shell.execute_reply": "2025-08-28T08:56:08.684458Z"
    },
    "papermill": {
     "duration": 0.020041,
     "end_time": "2025-08-28T08:56:08.687858",
     "exception": false,
     "start_time": "2025-08-28T08:56:08.667817",
     "status": "completed"
    },
    "tags": []
   },
   "outputs": [],
   "source": [
    "data_train = data_train.drop_duplicates(subset = [\"Text\"])\n",
    "data_train.Category = pd.Categorical(data_train.Category)"
   ]
  },
  {
   "cell_type": "code",
   "execution_count": 6,
   "id": "6e78245e",
   "metadata": {
    "execution": {
     "iopub.execute_input": "2025-08-28T08:56:08.696786Z",
     "iopub.status.busy": "2025-08-28T08:56:08.696433Z",
     "iopub.status.idle": "2025-08-28T08:56:09.397288Z",
     "shell.execute_reply": "2025-08-28T08:56:09.396200Z"
    },
    "papermill": {
     "duration": 0.707553,
     "end_time": "2025-08-28T08:56:09.399330",
     "exception": false,
     "start_time": "2025-08-28T08:56:08.691777",
     "status": "completed"
    },
    "tags": []
   },
   "outputs": [
    {
     "name": "stdout",
     "output_type": "stream",
     "text": [
      "(1440, 23308)\n"
     ]
    }
   ],
   "source": [
    "train_without_numbers = data_train[\"Text\"].str.replace(r'\\d+', 'NUM', regex=True)\n",
    "vectoriser = TfidfVectorizer(stop_words=\"english\")\n",
    "result = vectoriser.fit_transform(train_without_numbers)\n",
    "print(result.shape)"
   ]
  },
  {
   "cell_type": "code",
   "execution_count": 7,
   "id": "19bc30e6",
   "metadata": {
    "execution": {
     "iopub.execute_input": "2025-08-28T08:56:09.408146Z",
     "iopub.status.busy": "2025-08-28T08:56:09.407817Z",
     "iopub.status.idle": "2025-08-28T08:56:09.977147Z",
     "shell.execute_reply": "2025-08-28T08:56:09.975415Z"
    },
    "papermill": {
     "duration": 0.575886,
     "end_time": "2025-08-28T08:56:09.979237",
     "exception": false,
     "start_time": "2025-08-28T08:56:09.403351",
     "status": "completed"
    },
    "tags": []
   },
   "outputs": [],
   "source": [
    "nmf = NMF(n_components=5)\n",
    "train_pred = nmf.fit_transform(result).argmax(axis=1)"
   ]
  },
  {
   "cell_type": "code",
   "execution_count": 8,
   "id": "dc61c74e",
   "metadata": {
    "execution": {
     "iopub.execute_input": "2025-08-28T08:56:09.989829Z",
     "iopub.status.busy": "2025-08-28T08:56:09.989478Z",
     "iopub.status.idle": "2025-08-28T08:56:10.329833Z",
     "shell.execute_reply": "2025-08-28T08:56:10.328667Z"
    },
    "papermill": {
     "duration": 0.347926,
     "end_time": "2025-08-28T08:56:10.331547",
     "exception": false,
     "start_time": "2025-08-28T08:56:09.983621",
     "status": "completed"
    },
    "tags": []
   },
   "outputs": [
    {
     "name": "stdout",
     "output_type": "stream",
     "text": [
      "(('business', 'politics', 'sport', 'entertainment', 'tech'), 0.8708333333333333)\n"
     ]
    }
   ],
   "source": [
    "def label_permute_compare(ytdf,yp):\n",
    "    \"\"\"\n",
    "    ytdf: labels column from dataframe object.\n",
    "    yp: label prediction output.\n",
    "    Returns permuted label order and accuracy.\n",
    "    Example output: ('business', 'politics', 'sport', 'entertainment', 'tech'), 0.74 .\n",
    "    \"\"\"\n",
    "    y_true = ytdf\n",
    "    best_acc = 0.\n",
    "    for perm in permutations(ytdf.cat.categories):\n",
    "        y_pred = [perm[i] for i in yp]\n",
    "        accuracy = accuracy_score(y_true, y_pred)\n",
    "        if accuracy > best_acc:\n",
    "            best_acc = accuracy\n",
    "            best_perm = perm\n",
    "    return best_perm, best_acc\n",
    "\n",
    "print(label_permute_compare(data_train.Category, train_pred))"
   ]
  },
  {
   "cell_type": "markdown",
   "id": "0bcfd4c0",
   "metadata": {
    "papermill": {
     "duration": 0.003091,
     "end_time": "2025-08-28T08:56:10.338148",
     "exception": false,
     "start_time": "2025-08-28T08:56:10.335057",
     "status": "completed"
    },
    "tags": []
   },
   "source": [
    "## References\n",
    "\n",
    "1. [How to apply a custom stemmer before passing the training corpus to TfidfVectorizer in sklearn?](https://stackoverflow.com/questions/48925747/how-to-apply-a-custom-stemmer-before-passing-the-training-corpus-to-tfidfvectori)\n",
    "1. [How does adding/omitting lemmatization affect TF-IDF?](https://stats.stackexchange.com/questions/428967/how-does-adding-omitting-lemmatization-affect-tf-idf)\n",
    "1. [Comparing Apples to Apple: The Effects of Stemmers on Topic Models](https://mimno.infosci.cornell.edu/papers/schofield_tacl_2016.pdf)\n",
    "1. [Sklearn: adding lemmatizer to CountVectorizer](https://stackoverflow.com/questions/47423854/sklearn-adding-lemmatizer-to-countvectorizer)"
   ]
  },
  {
   "cell_type": "code",
   "execution_count": null,
   "id": "86cdbe83",
   "metadata": {
    "papermill": {
     "duration": 0.003066,
     "end_time": "2025-08-28T08:56:10.345680",
     "exception": false,
     "start_time": "2025-08-28T08:56:10.342614",
     "status": "completed"
    },
    "tags": []
   },
   "outputs": [],
   "source": []
  }
 ],
 "metadata": {
  "kaggle": {
   "accelerator": "none",
   "dataSources": [
    {
     "databundleVersionId": 324297,
     "sourceId": 13351,
     "sourceType": "competition"
    }
   ],
   "dockerImageVersionId": 31089,
   "isGpuEnabled": false,
   "isInternetEnabled": true,
   "language": "python",
   "sourceType": "notebook"
  },
  "kernelspec": {
   "display_name": "Python 3",
   "language": "python",
   "name": "python3"
  },
  "language_info": {
   "codemirror_mode": {
    "name": "ipython",
    "version": 3
   },
   "file_extension": ".py",
   "mimetype": "text/x-python",
   "name": "python",
   "nbconvert_exporter": "python",
   "pygments_lexer": "ipython3",
   "version": "3.11.13"
  },
  "papermill": {
   "default_parameters": {},
   "duration": 13.253387,
   "end_time": "2025-08-28T08:56:11.071205",
   "environment_variables": {},
   "exception": null,
   "input_path": "__notebook__.ipynb",
   "output_path": "__notebook__.ipynb",
   "parameters": {},
   "start_time": "2025-08-28T08:55:57.817818",
   "version": "2.6.0"
  }
 },
 "nbformat": 4,
 "nbformat_minor": 5
}
