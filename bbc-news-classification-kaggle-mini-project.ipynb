{
 "cells": [
  {
   "cell_type": "markdown",
   "id": "5b1f9dff",
   "metadata": {
    "papermill": {
     "duration": 0.006488,
     "end_time": "2025-08-29T16:44:07.968191",
     "exception": false,
     "start_time": "2025-08-29T16:44:07.961703",
     "status": "completed"
    },
    "tags": []
   },
   "source": [
    "# BBC News Classification Kaggle Mini-Project\n",
    "\n",
    "The objectives of this mini-project are:\n",
    "\n",
    "- Perform an exploratory data analysis (EDA) procedure.\n",
    "- Build and train an unsupervised learning model using Non-negative Matrix Factorisation (NMF).\n",
    "- Build and train a supervised learning model.\n",
    "- Compare the two models."
   ]
  },
  {
   "cell_type": "markdown",
   "id": "bcc733f4",
   "metadata": {
    "papermill": {
     "duration": 0.005133,
     "end_time": "2025-08-29T16:44:07.979049",
     "exception": false,
     "start_time": "2025-08-29T16:44:07.973916",
     "status": "completed"
    },
    "tags": []
   },
   "source": [
    "## Project setup\n",
    "\n",
    "Import the required modules and load the datasets."
   ]
  },
  {
   "cell_type": "code",
   "execution_count": 1,
   "id": "036affe4",
   "metadata": {
    "_cell_guid": "cb21e0d3-b613-4968-b4e3-9b5c2e1e55b0",
    "_kg_hide-input": false,
    "_uuid": "b1e57fe5-dab1-4965-8945-0377fc94189c",
    "collapsed": false,
    "execution": {
     "iopub.execute_input": "2025-08-29T16:44:07.991193Z",
     "iopub.status.busy": "2025-08-29T16:44:07.990765Z",
     "iopub.status.idle": "2025-08-29T16:44:09.855746Z",
     "shell.execute_reply": "2025-08-29T16:44:09.854720Z"
    },
    "jupyter": {
     "outputs_hidden": false
    },
    "papermill": {
     "duration": 1.872707,
     "end_time": "2025-08-29T16:44:09.857178",
     "exception": false,
     "start_time": "2025-08-29T16:44:07.984471",
     "status": "completed"
    },
    "tags": []
   },
   "outputs": [
    {
     "name": "stdout",
     "output_type": "stream",
     "text": [
      "/kaggle/input/learn-ai-bbc/BBC News Train.csv\n",
      "/kaggle/input/learn-ai-bbc/BBC News Sample Solution.csv\n",
      "/kaggle/input/learn-ai-bbc/BBC News Test.csv\n"
     ]
    }
   ],
   "source": [
    "# This Python 3 environment comes with many helpful analytics libraries installed\n",
    "# It is defined by the kaggle/python Docker image: https://github.com/kaggle/docker-python\n",
    "# For example, here's several helpful packages to load\n",
    "\n",
    "import numpy as np # linear algebra\n",
    "import pandas as pd # data processing, CSV file I/O (e.g. pd.read_csv)\n",
    "\n",
    "# Input data files are available in the read-only \"../input/\" directory\n",
    "# For example, running this (by clicking run or pressing Shift+Enter) will list all files under the input directory\n",
    "\n",
    "import os\n",
    "for dirname, _, filenames in os.walk('/kaggle/input'):\n",
    "    for filename in filenames:\n",
    "        print(os.path.join(dirname, filename))\n",
    "\n",
    "# You can write up to 20GB to the current directory (/kaggle/working/) that gets preserved as output when you create a version using \"Save & Run All\" \n",
    "# You can also write temporary files to /kaggle/temp/, but they won't be saved outside of the current session"
   ]
  },
  {
   "cell_type": "code",
   "execution_count": 2,
   "id": "a0d8c9ab",
   "metadata": {
    "execution": {
     "iopub.execute_input": "2025-08-29T16:44:09.869909Z",
     "iopub.status.busy": "2025-08-29T16:44:09.869503Z",
     "iopub.status.idle": "2025-08-29T16:44:11.781071Z",
     "shell.execute_reply": "2025-08-29T16:44:11.780158Z"
    },
    "papermill": {
     "duration": 1.919944,
     "end_time": "2025-08-29T16:44:11.782900",
     "exception": false,
     "start_time": "2025-08-29T16:44:09.862956",
     "status": "completed"
    },
    "tags": []
   },
   "outputs": [],
   "source": [
    "from itertools import permutations\n",
    "import matplotlib.pyplot as plt\n",
    "from sklearn.decomposition import NMF\n",
    "from sklearn.feature_extraction.text import TfidfVectorizer\n",
    "from sklearn.linear_model import LogisticRegression\n",
    "from sklearn.metrics import accuracy_score, confusion_matrix\n",
    "from sklearn.model_selection import train_test_split\n",
    "from wordcloud import WordCloud\n"
   ]
  },
  {
   "cell_type": "code",
   "execution_count": 3,
   "id": "a950ebb3",
   "metadata": {
    "_cell_guid": "3f1e8a77-d01f-46fb-b78a-1bdf5a245fee",
    "_uuid": "393c8245-ff4a-4144-85fe-28e0959595fa",
    "collapsed": false,
    "execution": {
     "iopub.execute_input": "2025-08-29T16:44:11.795721Z",
     "iopub.status.busy": "2025-08-29T16:44:11.795303Z",
     "iopub.status.idle": "2025-08-29T16:44:11.994667Z",
     "shell.execute_reply": "2025-08-29T16:44:11.993791Z"
    },
    "jupyter": {
     "outputs_hidden": false
    },
    "papermill": {
     "duration": 0.207274,
     "end_time": "2025-08-29T16:44:11.996221",
     "exception": false,
     "start_time": "2025-08-29T16:44:11.788947",
     "status": "completed"
    },
    "tags": []
   },
   "outputs": [],
   "source": [
    "data_train = pd.read_csv(\"/kaggle/input/learn-ai-bbc/BBC News Train.csv\")\n",
    "data_test = pd.read_csv(\"/kaggle/input/learn-ai-bbc/BBC News Test.csv\")\n",
    "sample_solution = pd.read_csv(\"/kaggle/input/learn-ai-bbc/BBC News Sample Solution.csv\")"
   ]
  },
  {
   "cell_type": "markdown",
   "id": "7ed657cc",
   "metadata": {
    "papermill": {
     "duration": 0.005102,
     "end_time": "2025-08-29T16:44:12.006962",
     "exception": false,
     "start_time": "2025-08-29T16:44:12.001860",
     "status": "completed"
    },
    "tags": []
   },
   "source": [
    "### Inspection"
   ]
  },
  {
   "cell_type": "markdown",
   "id": "24a435f9",
   "metadata": {
    "papermill": {
     "duration": 0.005025,
     "end_time": "2025-08-29T16:44:12.018019",
     "exception": false,
     "start_time": "2025-08-29T16:44:12.012994",
     "status": "completed"
    },
    "tags": []
   },
   "source": [
    "#### Training data"
   ]
  },
  {
   "cell_type": "code",
   "execution_count": 4,
   "id": "c8f17e02",
   "metadata": {
    "execution": {
     "iopub.execute_input": "2025-08-29T16:44:12.030120Z",
     "iopub.status.busy": "2025-08-29T16:44:12.029806Z",
     "iopub.status.idle": "2025-08-29T16:44:12.074996Z",
     "shell.execute_reply": "2025-08-29T16:44:12.073904Z"
    },
    "papermill": {
     "duration": 0.053183,
     "end_time": "2025-08-29T16:44:12.076555",
     "exception": false,
     "start_time": "2025-08-29T16:44:12.023372",
     "status": "completed"
    },
    "tags": []
   },
   "outputs": [
    {
     "name": "stdout",
     "output_type": "stream",
     "text": [
      "<class 'pandas.core.frame.DataFrame'>\n",
      "RangeIndex: 1490 entries, 0 to 1489\n",
      "Data columns (total 3 columns):\n",
      " #   Column     Non-Null Count  Dtype \n",
      "---  ------     --------------  ----- \n",
      " 0   ArticleId  1490 non-null   int64 \n",
      " 1   Text       1490 non-null   object\n",
      " 2   Category   1490 non-null   object\n",
      "dtypes: int64(1), object(2)\n",
      "memory usage: 35.1+ KB\n",
      "None\n"
     ]
    },
    {
     "data": {
      "text/html": [
       "<div>\n",
       "<style scoped>\n",
       "    .dataframe tbody tr th:only-of-type {\n",
       "        vertical-align: middle;\n",
       "    }\n",
       "\n",
       "    .dataframe tbody tr th {\n",
       "        vertical-align: top;\n",
       "    }\n",
       "\n",
       "    .dataframe thead th {\n",
       "        text-align: right;\n",
       "    }\n",
       "</style>\n",
       "<table border=\"1\" class=\"dataframe\">\n",
       "  <thead>\n",
       "    <tr style=\"text-align: right;\">\n",
       "      <th></th>\n",
       "      <th>ArticleId</th>\n",
       "      <th>Text</th>\n",
       "      <th>Category</th>\n",
       "    </tr>\n",
       "  </thead>\n",
       "  <tbody>\n",
       "    <tr>\n",
       "      <th>0</th>\n",
       "      <td>1833</td>\n",
       "      <td>worldcom ex-boss launches defence lawyers defe...</td>\n",
       "      <td>business</td>\n",
       "    </tr>\n",
       "    <tr>\n",
       "      <th>1</th>\n",
       "      <td>154</td>\n",
       "      <td>german business confidence slides german busin...</td>\n",
       "      <td>business</td>\n",
       "    </tr>\n",
       "    <tr>\n",
       "      <th>2</th>\n",
       "      <td>1101</td>\n",
       "      <td>bbc poll indicates economic gloom citizens in ...</td>\n",
       "      <td>business</td>\n",
       "    </tr>\n",
       "    <tr>\n",
       "      <th>3</th>\n",
       "      <td>1976</td>\n",
       "      <td>lifestyle  governs mobile choice  faster  bett...</td>\n",
       "      <td>tech</td>\n",
       "    </tr>\n",
       "    <tr>\n",
       "      <th>4</th>\n",
       "      <td>917</td>\n",
       "      <td>enron bosses in $168m payout eighteen former e...</td>\n",
       "      <td>business</td>\n",
       "    </tr>\n",
       "  </tbody>\n",
       "</table>\n",
       "</div>"
      ],
      "text/plain": [
       "   ArticleId                                               Text  Category\n",
       "0       1833  worldcom ex-boss launches defence lawyers defe...  business\n",
       "1        154  german business confidence slides german busin...  business\n",
       "2       1101  bbc poll indicates economic gloom citizens in ...  business\n",
       "3       1976  lifestyle  governs mobile choice  faster  bett...      tech\n",
       "4        917  enron bosses in $168m payout eighteen former e...  business"
      ]
     },
     "execution_count": 4,
     "metadata": {},
     "output_type": "execute_result"
    }
   ],
   "source": [
    "print(data_train.info())\n",
    "data_train.head()"
   ]
  },
  {
   "cell_type": "markdown",
   "id": "cfea7b73",
   "metadata": {
    "papermill": {
     "duration": 0.005375,
     "end_time": "2025-08-29T16:44:12.087765",
     "exception": false,
     "start_time": "2025-08-29T16:44:12.082390",
     "status": "completed"
    },
    "tags": []
   },
   "source": [
    "Using the data tab in the competition, we can see that all rows are valid, but only 1440 out 1490 values are unique in the Text column.\n",
    "\n",
    "In addition, the Category column has a dtype of object without being categorised.\n",
    "\n",
    "The next cell fixes these two issues."
   ]
  },
  {
   "cell_type": "code",
   "execution_count": 5,
   "id": "ac929908",
   "metadata": {
    "execution": {
     "iopub.execute_input": "2025-08-29T16:44:12.100166Z",
     "iopub.status.busy": "2025-08-29T16:44:12.099575Z",
     "iopub.status.idle": "2025-08-29T16:44:12.109915Z",
     "shell.execute_reply": "2025-08-29T16:44:12.109090Z"
    },
    "papermill": {
     "duration": 0.018156,
     "end_time": "2025-08-29T16:44:12.111396",
     "exception": false,
     "start_time": "2025-08-29T16:44:12.093240",
     "status": "completed"
    },
    "tags": []
   },
   "outputs": [],
   "source": [
    "data_train = data_train.drop_duplicates(subset = [\"Text\"])\n",
    "data_train.Category = pd.Categorical(data_train.Category)"
   ]
  },
  {
   "cell_type": "markdown",
   "id": "f65a7384",
   "metadata": {
    "papermill": {
     "duration": 0.005407,
     "end_time": "2025-08-29T16:44:12.122938",
     "exception": false,
     "start_time": "2025-08-29T16:44:12.117531",
     "status": "completed"
    },
    "tags": []
   },
   "source": [
    "Next we check the ratios of the categories using a pie chart. From the chart below, it seems that the categories are well-balanced."
   ]
  },
  {
   "cell_type": "code",
   "execution_count": 6,
   "id": "ba02fae5",
   "metadata": {
    "execution": {
     "iopub.execute_input": "2025-08-29T16:44:12.135648Z",
     "iopub.status.busy": "2025-08-29T16:44:12.135010Z",
     "iopub.status.idle": "2025-08-29T16:44:12.433745Z",
     "shell.execute_reply": "2025-08-29T16:44:12.432769Z"
    },
    "papermill": {
     "duration": 0.306833,
     "end_time": "2025-08-29T16:44:12.435332",
     "exception": false,
     "start_time": "2025-08-29T16:44:12.128499",
     "status": "completed"
    },
    "tags": []
   },
   "outputs": [
    {
     "data": {
      "text/plain": [
       "<Axes: >"
      ]
     },
     "execution_count": 6,
     "metadata": {},
     "output_type": "execute_result"
    },
    {
     "data": {
      "image/png": "[encoded data removed]",
      "text/plain": [
       "<Figure size 640x480 with 1 Axes>"
      ]
     },
     "metadata": {},
     "output_type": "display_data"
    }
   ],
   "source": [
    "data_train.Category.value_counts().plot.pie(autopct='%1.1f%%', ylabel='')"
   ]
  },
  {
   "cell_type": "markdown",
   "id": "e0365ad4",
   "metadata": {
    "papermill": {
     "duration": 0.005976,
     "end_time": "2025-08-29T16:44:12.447746",
     "exception": false,
     "start_time": "2025-08-29T16:44:12.441770",
     "status": "completed"
    },
    "tags": []
   },
   "source": [
    "#### Test data and provided sample solution\n",
    "\n",
    "These have the same structure as the training data, except that one drops the Category column, while the solution drops the Text column."
   ]
  },
  {
   "cell_type": "code",
   "execution_count": 7,
   "id": "4c079451",
   "metadata": {
    "execution": {
     "iopub.execute_input": "2025-08-29T16:44:12.461799Z",
     "iopub.status.busy": "2025-08-29T16:44:12.461494Z",
     "iopub.status.idle": "2025-08-29T16:44:12.476792Z",
     "shell.execute_reply": "2025-08-29T16:44:12.475916Z"
    },
    "papermill": {
     "duration": 0.024152,
     "end_time": "2025-08-29T16:44:12.478241",
     "exception": false,
     "start_time": "2025-08-29T16:44:12.454089",
     "status": "completed"
    },
    "tags": []
   },
   "outputs": [
    {
     "name": "stdout",
     "output_type": "stream",
     "text": [
      "<class 'pandas.core.frame.DataFrame'>\n",
      "RangeIndex: 735 entries, 0 to 734\n",
      "Data columns (total 2 columns):\n",
      " #   Column     Non-Null Count  Dtype \n",
      "---  ------     --------------  ----- \n",
      " 0   ArticleId  735 non-null    int64 \n",
      " 1   Text       735 non-null    object\n",
      "dtypes: int64(1), object(1)\n",
      "memory usage: 11.6+ KB\n",
      "None\n"
     ]
    },
    {
     "data": {
      "text/html": [
       "<div>\n",
       "<style scoped>\n",
       "    .dataframe tbody tr th:only-of-type {\n",
       "        vertical-align: middle;\n",
       "    }\n",
       "\n",
       "    .dataframe tbody tr th {\n",
       "        vertical-align: top;\n",
       "    }\n",
       "\n",
       "    .dataframe thead th {\n",
       "        text-align: right;\n",
       "    }\n",
       "</style>\n",
       "<table border=\"1\" class=\"dataframe\">\n",
       "  <thead>\n",
       "    <tr style=\"text-align: right;\">\n",
       "      <th></th>\n",
       "      <th>ArticleId</th>\n",
       "      <th>Text</th>\n",
       "    </tr>\n",
       "  </thead>\n",
       "  <tbody>\n",
       "    <tr>\n",
       "      <th>0</th>\n",
       "      <td>1018</td>\n",
       "      <td>qpr keeper day heads for preston queens park r...</td>\n",
       "    </tr>\n",
       "    <tr>\n",
       "      <th>1</th>\n",
       "      <td>1319</td>\n",
       "      <td>software watching while you work software that...</td>\n",
       "    </tr>\n",
       "    <tr>\n",
       "      <th>2</th>\n",
       "      <td>1138</td>\n",
       "      <td>d arcy injury adds to ireland woe gordon d arc...</td>\n",
       "    </tr>\n",
       "    <tr>\n",
       "      <th>3</th>\n",
       "      <td>459</td>\n",
       "      <td>india s reliance family feud heats up the ongo...</td>\n",
       "    </tr>\n",
       "    <tr>\n",
       "      <th>4</th>\n",
       "      <td>1020</td>\n",
       "      <td>boro suffer morrison injury blow middlesbrough...</td>\n",
       "    </tr>\n",
       "  </tbody>\n",
       "</table>\n",
       "</div>"
      ],
      "text/plain": [
       "   ArticleId                                               Text\n",
       "0       1018  qpr keeper day heads for preston queens park r...\n",
       "1       1319  software watching while you work software that...\n",
       "2       1138  d arcy injury adds to ireland woe gordon d arc...\n",
       "3        459  india s reliance family feud heats up the ongo...\n",
       "4       1020  boro suffer morrison injury blow middlesbrough..."
      ]
     },
     "execution_count": 7,
     "metadata": {},
     "output_type": "execute_result"
    }
   ],
   "source": [
    "print(data_test.info())\n",
    "data_test.head()"
   ]
  },
  {
   "cell_type": "code",
   "execution_count": 8,
   "id": "9c01741b",
   "metadata": {
    "execution": {
     "iopub.execute_input": "2025-08-29T16:44:12.492542Z",
     "iopub.status.busy": "2025-08-29T16:44:12.492193Z",
     "iopub.status.idle": "2025-08-29T16:44:12.505476Z",
     "shell.execute_reply": "2025-08-29T16:44:12.504616Z"
    },
    "papermill": {
     "duration": 0.021916,
     "end_time": "2025-08-29T16:44:12.506750",
     "exception": false,
     "start_time": "2025-08-29T16:44:12.484834",
     "status": "completed"
    },
    "tags": []
   },
   "outputs": [
    {
     "name": "stdout",
     "output_type": "stream",
     "text": [
      "<class 'pandas.core.frame.DataFrame'>\n",
      "RangeIndex: 735 entries, 0 to 734\n",
      "Data columns (total 2 columns):\n",
      " #   Column     Non-Null Count  Dtype \n",
      "---  ------     --------------  ----- \n",
      " 0   ArticleId  735 non-null    int64 \n",
      " 1   Category   735 non-null    object\n",
      "dtypes: int64(1), object(1)\n",
      "memory usage: 11.6+ KB\n",
      "None\n"
     ]
    },
    {
     "data": {
      "text/html": [
       "<div>\n",
       "<style scoped>\n",
       "    .dataframe tbody tr th:only-of-type {\n",
       "        vertical-align: middle;\n",
       "    }\n",
       "\n",
       "    .dataframe tbody tr th {\n",
       "        vertical-align: top;\n",
       "    }\n",
       "\n",
       "    .dataframe thead th {\n",
       "        text-align: right;\n",
       "    }\n",
       "</style>\n",
       "<table border=\"1\" class=\"dataframe\">\n",
       "  <thead>\n",
       "    <tr style=\"text-align: right;\">\n",
       "      <th></th>\n",
       "      <th>ArticleId</th>\n",
       "      <th>Category</th>\n",
       "    </tr>\n",
       "  </thead>\n",
       "  <tbody>\n",
       "    <tr>\n",
       "      <th>0</th>\n",
       "      <td>1018</td>\n",
       "      <td>sport</td>\n",
       "    </tr>\n",
       "    <tr>\n",
       "      <th>1</th>\n",
       "      <td>1319</td>\n",
       "      <td>tech</td>\n",
       "    </tr>\n",
       "    <tr>\n",
       "      <th>2</th>\n",
       "      <td>1138</td>\n",
       "      <td>business</td>\n",
       "    </tr>\n",
       "    <tr>\n",
       "      <th>3</th>\n",
       "      <td>459</td>\n",
       "      <td>entertainment</td>\n",
       "    </tr>\n",
       "    <tr>\n",
       "      <th>4</th>\n",
       "      <td>1020</td>\n",
       "      <td>politics</td>\n",
       "    </tr>\n",
       "  </tbody>\n",
       "</table>\n",
       "</div>"
      ],
      "text/plain": [
       "   ArticleId       Category\n",
       "0       1018          sport\n",
       "1       1319           tech\n",
       "2       1138       business\n",
       "3        459  entertainment\n",
       "4       1020       politics"
      ]
     },
     "execution_count": 8,
     "metadata": {},
     "output_type": "execute_result"
    }
   ],
   "source": [
    "print(sample_solution.info())\n",
    "sample_solution.head()"
   ]
  },
  {
   "cell_type": "markdown",
   "id": "2df041a2",
   "metadata": {
    "papermill": {
     "duration": 0.00628,
     "end_time": "2025-08-29T16:44:12.519808",
     "exception": false,
     "start_time": "2025-08-29T16:44:12.513528",
     "status": "completed"
    },
    "tags": []
   },
   "source": [
    "## Preprocessing\n",
    "\n",
    "Tf-idf converts a count matrix into a metric more suitable for our usecase by reducing the impact of highly-occuring words, making sure that words that occur less frequently overall, and are thus more likely to contribute to defining the topic of the article, are properly accounted for.\n",
    "\n",
    "Before applying tf-idf, there are preprocessing tasks under consideration:\n",
    "\n",
    "1. Convert to lower case.\n",
    "1. Remove punctuation.\n",
    "1. Remove stopwords.\n",
    "1. Stemming/Lemmatisation.\n",
    "1. Stripping extra white space.\n",
    "\n",
    "Fortunately, all of these except of lemmatisation can be handled by TfidVectorizer easily, greatly simplifying the implementation. Note that when `analyzer == 'word'`, punctuation along with extra white space are automatically removed. Setting to lower case and removing stopwords can also be achieved by setting their respective parameters.\n",
    "\n",
    "As for lemmatisation, it seems to be potentially useful according to [this stackexchange answer](https://stats.stackexchange.com/a/430776). However, [this paper](https://mimno.infosci.cornell.edu/papers/schofield_tacl_2016.pdf) suggests that the resulting complexity is not worth it, so I decided not to implement it afterall.\n",
    "\n",
    "Instead, I will try replacing the numbers in the text with NUM using regex. This was much easier to implement, and would give some insight into whether the type of modifications done by stemming/lemmatisation actually help."
   ]
  },
  {
   "cell_type": "code",
   "execution_count": 9,
   "id": "d80d885a",
   "metadata": {
    "execution": {
     "iopub.execute_input": "2025-08-29T16:44:12.534966Z",
     "iopub.status.busy": "2025-08-29T16:44:12.533853Z",
     "iopub.status.idle": "2025-08-29T16:44:13.070322Z",
     "shell.execute_reply": "2025-08-29T16:44:13.069403Z"
    },
    "papermill": {
     "duration": 0.545508,
     "end_time": "2025-08-29T16:44:13.071821",
     "exception": false,
     "start_time": "2025-08-29T16:44:12.526313",
     "status": "completed"
    },
    "tags": []
   },
   "outputs": [
    {
     "name": "stdout",
     "output_type": "stream",
     "text": [
      "(1440, 24456)\n"
     ]
    }
   ],
   "source": [
    "vectoriser = TfidfVectorizer(stop_words=\"english\") # lowercase is True by default and analyzer==word.\n",
    "train_vectorised = vectoriser.fit_transform(data_train.Text)\n",
    "print(train_vectorised.shape)"
   ]
  },
  {
   "cell_type": "markdown",
   "id": "37ab1103",
   "metadata": {
    "papermill": {
     "duration": 0.006601,
     "end_time": "2025-08-29T16:44:13.085204",
     "exception": false,
     "start_time": "2025-08-29T16:44:13.078603",
     "status": "completed"
    },
    "tags": []
   },
   "source": [
    "Now we will try to visualise the most common words. Notice that because we used the version with the numbers, some of them appear here. Between the numbers, it seems 000, along with specific years, are frequently occurring."
   ]
  },
  {
   "cell_type": "code",
   "execution_count": 10,
   "id": "4ff649fa",
   "metadata": {
    "execution": {
     "iopub.execute_input": "2025-08-29T16:44:13.099650Z",
     "iopub.status.busy": "2025-08-29T16:44:13.099346Z",
     "iopub.status.idle": "2025-08-29T16:44:14.204957Z",
     "shell.execute_reply": "2025-08-29T16:44:14.204048Z"
    },
    "papermill": {
     "duration": 1.117425,
     "end_time": "2025-08-29T16:44:14.209339",
     "exception": false,
     "start_time": "2025-08-29T16:44:13.091914",
     "status": "completed"
    },
    "tags": []
   },
   "outputs": [
    {
     "data": {
      "image/png": "[encoded data removed]",
      "text/plain": [
       "<Figure size 640x480 with 1 Axes>"
      ]
     },
     "metadata": {},
     "output_type": "display_data"
    }
   ],
   "source": [
    "word_frequencies = pd.DataFrame(train_vectorised.toarray(), columns=vectoriser.get_feature_names_out()).T.sum(axis=1)\n",
    "wordcloud = WordCloud(background_color='white').generate_from_frequencies(word_frequencies.to_dict())\n",
    "plt.imshow(wordcloud)\n",
    "plt.axis('off')\n",
    "plt.show()"
   ]
  },
  {
   "cell_type": "markdown",
   "id": "16c48e1f",
   "metadata": {
    "papermill": {
     "duration": 0.008972,
     "end_time": "2025-08-29T16:44:14.227849",
     "exception": false,
     "start_time": "2025-08-29T16:44:14.218877",
     "status": "completed"
    },
    "tags": []
   },
   "source": [
    "## Building and training the NMF model\n",
    "\n",
    "In training the model, only the train data is used - the test dataset is not included. This allows the test dataset to do its job of measuring the accuracy of the model on untrained data. Nevertheless, it is very possible to train on the test data as well, as the label assignment can be done based on the `train` portion of the predictions.\n",
    "\n",
    "Accuracy will be used as the performance metric as it is the one used by the competition.\n",
    "\n",
    "The code below gives an accuracy of 90.8%. Surprisingly, when tested using data_test and submitted, it returned an even higher accuracy of 92.2% (V5)."
   ]
  },
  {
   "cell_type": "code",
   "execution_count": 11,
   "id": "17bd1e0b",
   "metadata": {
    "execution": {
     "iopub.execute_input": "2025-08-29T16:44:14.247416Z",
     "iopub.status.busy": "2025-08-29T16:44:14.247033Z",
     "iopub.status.idle": "2025-08-29T16:44:14.606151Z",
     "shell.execute_reply": "2025-08-29T16:44:14.604890Z"
    },
    "papermill": {
     "duration": 0.370923,
     "end_time": "2025-08-29T16:44:14.608012",
     "exception": false,
     "start_time": "2025-08-29T16:44:14.237089",
     "status": "completed"
    },
    "tags": []
   },
   "outputs": [],
   "source": [
    "nmf = NMF(n_components=5)\n",
    "train_pred = nmf.fit_transform(train_vectorised).argmax(axis=1)"
   ]
  },
  {
   "cell_type": "code",
   "execution_count": 12,
   "id": "0f67d3eb",
   "metadata": {
    "execution": {
     "iopub.execute_input": "2025-08-29T16:44:14.628210Z",
     "iopub.status.busy": "2025-08-29T16:44:14.627905Z",
     "iopub.status.idle": "2025-08-29T16:44:14.935719Z",
     "shell.execute_reply": "2025-08-29T16:44:14.934800Z"
    },
    "papermill": {
     "duration": 0.319606,
     "end_time": "2025-08-29T16:44:14.937178",
     "exception": false,
     "start_time": "2025-08-29T16:44:14.617572",
     "status": "completed"
    },
    "tags": []
   },
   "outputs": [
    {
     "name": "stdout",
     "output_type": "stream",
     "text": [
      "Accuracy: 90.8%\n"
     ]
    }
   ],
   "source": [
    "def label_permute_compare(ytdf,yp):\n",
    "    \"\"\"\n",
    "    ytdf: labels column from dataframe object.\n",
    "    yp: label prediction output.\n",
    "    Returns permuted label order and accuracy.\n",
    "    Example output: ('business', 'politics', 'sport', 'entertainment', 'tech'), 0.74 .\n",
    "    \"\"\"\n",
    "    y_true = ytdf\n",
    "    best_acc = 0.\n",
    "    for perm in permutations(ytdf.cat.categories):\n",
    "        y_pred = [perm[i] for i in yp]\n",
    "        accuracy = accuracy_score(y_true, y_pred)\n",
    "        if accuracy > best_acc:\n",
    "            best_acc = accuracy\n",
    "            best_perm = perm\n",
    "    return best_perm, best_acc\n",
    "\n",
    "labels, acc = label_permute_compare(data_train.Category, train_pred)\n",
    "print(\"Accuracy: %.1f%%\" % (acc * 100))"
   ]
  },
  {
   "cell_type": "markdown",
   "id": "c08aca90",
   "metadata": {
    "papermill": {
     "duration": 0.009038,
     "end_time": "2025-08-29T16:44:14.955791",
     "exception": false,
     "start_time": "2025-08-29T16:44:14.946753",
     "status": "completed"
    },
    "tags": []
   },
   "source": [
    "### Try replacing the numbers with NUM\n",
    "\n",
    "Here we see that reducing the complexity by generalising the numbers actually decreases the performance of the model."
   ]
  },
  {
   "cell_type": "code",
   "execution_count": 13,
   "id": "cf42b106",
   "metadata": {
    "execution": {
     "iopub.execute_input": "2025-08-29T16:44:14.975326Z",
     "iopub.status.busy": "2025-08-29T16:44:14.974975Z",
     "iopub.status.idle": "2025-08-29T16:44:16.106682Z",
     "shell.execute_reply": "2025-08-29T16:44:16.105748Z"
    },
    "papermill": {
     "duration": 1.143104,
     "end_time": "2025-08-29T16:44:16.108085",
     "exception": false,
     "start_time": "2025-08-29T16:44:14.964981",
     "status": "completed"
    },
    "tags": []
   },
   "outputs": [
    {
     "name": "stdout",
     "output_type": "stream",
     "text": [
      "Accuracy: 87.1%\n"
     ]
    }
   ],
   "source": [
    "data_train_without_nums = data_train[\"Text\"].str.replace(r'\\d+', 'NUM', regex=True)\n",
    "vectorised_without_nums = TfidfVectorizer(stop_words=\"english\").fit_transform(data_train_without_nums)\n",
    "without_nums_pred = NMF(5).fit_transform(vectorised_without_nums).argmax(axis=1)\n",
    "_, acc_without_num = label_permute_compare(data_train.Category, without_nums_pred)\n",
    "print(\"Accuracy: %.1f%%\" % (acc_without_num * 100))"
   ]
  },
  {
   "cell_type": "markdown",
   "id": "9b3eb5af",
   "metadata": {
    "papermill": {
     "duration": 0.009586,
     "end_time": "2025-08-29T16:44:16.127241",
     "exception": false,
     "start_time": "2025-08-29T16:44:16.117655",
     "status": "completed"
    },
    "tags": []
   },
   "source": [
    "### Changing the hyperparameters\n",
    "\n",
    "In the previous models, parameters such as the maximum number of features and normalisation were ignored. We will now try out different combinations to try and improve the accuracy."
   ]
  },
  {
   "cell_type": "code",
   "execution_count": 14,
   "id": "c2be0219",
   "metadata": {
    "execution": {
     "iopub.execute_input": "2025-08-29T16:44:16.147443Z",
     "iopub.status.busy": "2025-08-29T16:44:16.146830Z",
     "iopub.status.idle": "2025-08-29T16:44:30.405397Z",
     "shell.execute_reply": "2025-08-29T16:44:30.404237Z"
    },
    "papermill": {
     "duration": 14.270265,
     "end_time": "2025-08-29T16:44:30.406970",
     "exception": false,
     "start_time": "2025-08-29T16:44:16.136705",
     "status": "completed"
    },
    "tags": []
   },
   "outputs": [
    {
     "name": "stdout",
     "output_type": "stream",
     "text": [
      "norm=l1, max_features=2000, acc=89.2%\n",
      "norm=l1, max_features=4000, acc=90.1%\n",
      "norm=l1, max_features=6000, acc=90.1%\n",
      "norm=l1, max_features=8000, acc=90.1%\n",
      "norm=l1, max_features=None, acc=90.5%\n",
      "norm=l2, max_features=2000, acc=89.9%\n",
      "norm=l2, max_features=4000, acc=91.4%\n",
      "norm=l2, max_features=6000, acc=91.0%\n",
      "norm=l2, max_features=8000, acc=91.2%\n",
      "norm=l2, max_features=None, acc=90.8%\n",
      "norm=None, max_features=2000, acc=38.1%\n",
      "norm=None, max_features=4000, acc=38.8%\n",
      "norm=None, max_features=6000, acc=38.5%\n",
      "norm=None, max_features=8000, acc=39.5%\n",
      "norm=None, max_features=None, acc=37.0%\n",
      "Best model accuracy = 91.4%\n"
     ]
    }
   ],
   "source": [
    "def gen_model(vectoriser):\n",
    "    model = {\"vectoriser\": vectoriser}\n",
    "    vectorised = vectoriser.fit_transform(data_train.Text)\n",
    "    nmf = NMF(n_components=5)\n",
    "    model[\"nmf\"] = nmf\n",
    "    y_pred = nmf.fit_transform(vectorised).argmax(axis=1)\n",
    "    model[\"labels\"], model[\"acc\"] = label_permute_compare(data_train.Category, y_pred)\n",
    "    return model\n",
    "\n",
    "best_accuracy = 0.\n",
    "for norm in (\"l1\", \"l2\", None):\n",
    "    for max_features in (2000, 4000, 6000, 8000, None):\n",
    "        model = gen_model(TfidfVectorizer(stop_words=\"english\", norm=norm, max_features=max_features))\n",
    "        print(\"norm=%s, max_features=%s, acc=%.1f%%\" % (norm, max_features, model[\"acc\"] * 100))\n",
    "        if model[\"acc\"] > best_accuracy:\n",
    "            best_model = model\n",
    "            best_accuracy = model[\"acc\"]\n",
    "print(\"Best model accuracy = %.1f%%\" % (best_model[\"acc\"] * 100))"
   ]
  },
  {
   "cell_type": "markdown",
   "id": "19354212",
   "metadata": {
    "papermill": {
     "duration": 0.009676,
     "end_time": "2025-08-29T16:44:30.427151",
     "exception": false,
     "start_time": "2025-08-29T16:44:30.417475",
     "status": "completed"
    },
    "tags": []
   },
   "source": [
    "### Test on data_test\n",
    "\n",
    "A model trained exclusively on the dataset is tested on the provided test dataset and submitted for evaluation. The best performing parameterised model, `best_model`, achieves a slightly higher accuracy on the test data as well (92.5%, V6 submission). On the other hand, the non-parametrised model (just l2 normalisation) had achieved 92.2% on the test dataset."
   ]
  },
  {
   "cell_type": "code",
   "execution_count": 15,
   "id": "a60aac33",
   "metadata": {
    "execution": {
     "iopub.execute_input": "2025-08-29T16:44:30.448762Z",
     "iopub.status.busy": "2025-08-29T16:44:30.448407Z",
     "iopub.status.idle": "2025-08-29T16:44:30.658420Z",
     "shell.execute_reply": "2025-08-29T16:44:30.657218Z"
    },
    "papermill": {
     "duration": 0.22304,
     "end_time": "2025-08-29T16:44:30.660237",
     "exception": false,
     "start_time": "2025-08-29T16:44:30.437197",
     "status": "completed"
    },
    "tags": []
   },
   "outputs": [],
   "source": [
    "test_vectorised = best_model[\"vectoriser\"].transform(data_test.Text)\n",
    "test_pred = best_model[\"nmf\"].transform(test_vectorised).argmax(axis=1)"
   ]
  },
  {
   "cell_type": "code",
   "execution_count": 16,
   "id": "bba6b4c9",
   "metadata": {
    "execution": {
     "iopub.execute_input": "2025-08-29T16:44:30.682206Z",
     "iopub.status.busy": "2025-08-29T16:44:30.681868Z",
     "iopub.status.idle": "2025-08-29T16:44:30.696634Z",
     "shell.execute_reply": "2025-08-29T16:44:30.695590Z"
    },
    "papermill": {
     "duration": 0.027998,
     "end_time": "2025-08-29T16:44:30.698630",
     "exception": false,
     "start_time": "2025-08-29T16:44:30.670632",
     "status": "completed"
    },
    "tags": []
   },
   "outputs": [
    {
     "name": "stdout",
     "output_type": "stream",
     "text": [
      "The order of solution df and test df is equivalent: True\n",
      "     ArticleId       Category\n",
      "0         1018          sport\n",
      "1         1319           tech\n",
      "2         1138          sport\n",
      "3          459       business\n",
      "4         1020          sport\n",
      "..         ...            ...\n",
      "730       1923       business\n",
      "731        373  entertainment\n",
      "732       1704           tech\n",
      "733        206       business\n",
      "734        471       politics\n",
      "\n",
      "[735 rows x 2 columns]\n"
     ]
    }
   ],
   "source": [
    "sample_solution.Category = [best_model[\"labels\"][x] for x in test_pred]\n",
    "print(\"The order of solution df and test df is equivalent:\", all(sample_solution.ArticleId == data_test.ArticleId))\n",
    "print(sample_solution)\n",
    "sample_solution.to_csv(\"submission.csv\", index=False)"
   ]
  },
  {
   "cell_type": "markdown",
   "id": "3cbcc583",
   "metadata": {
    "papermill": {
     "duration": 0.009869,
     "end_time": "2025-08-29T16:44:30.719010",
     "exception": false,
     "start_time": "2025-08-29T16:44:30.709141",
     "status": "completed"
    },
    "tags": []
   },
   "source": [
    "## Building and training the Supervised Learning model\n",
    "\n",
    "We will now compare the performance with that of supervised learning. To demonstrate, the most basic form of supervised learning will be used: Logistic Regression. To start with, the model will be trained on 80% of the data."
   ]
  },
  {
   "cell_type": "code",
   "execution_count": 17,
   "id": "aca8b4b0",
   "metadata": {
    "execution": {
     "iopub.execute_input": "2025-08-29T16:44:30.741399Z",
     "iopub.status.busy": "2025-08-29T16:44:30.741069Z",
     "iopub.status.idle": "2025-08-29T16:44:31.635691Z",
     "shell.execute_reply": "2025-08-29T16:44:31.634748Z"
    },
    "papermill": {
     "duration": 0.907854,
     "end_time": "2025-08-29T16:44:31.637625",
     "exception": false,
     "start_time": "2025-08-29T16:44:30.729771",
     "status": "completed"
    },
    "tags": []
   },
   "outputs": [
    {
     "name": "stdout",
     "output_type": "stream",
     "text": [
      "Training score: 99.7%\n",
      "Test score: 96.9%\n"
     ]
    }
   ],
   "source": [
    "train_vectorised = best_model[\"vectoriser\"].transform(data_train.Text)\n",
    "X_train, X_test, y_train, y_test = train_test_split(train_vectorised, data_train.Category, test_size=.2, random_state=4)\n",
    "clf = LogisticRegression(random_state=4).fit(X_train, y_train)\n",
    "print(\"Training score: %.1f%%\" % (clf.score(X_train, y_train) * 100))\n",
    "print(\"Test score: %.1f%%\" % (clf.score(X_test, y_test) * 100))\n"
   ]
  },
  {
   "cell_type": "markdown",
   "id": "f2ec7de3",
   "metadata": {
    "papermill": {
     "duration": 0.016534,
     "end_time": "2025-08-29T16:44:31.671495",
     "exception": false,
     "start_time": "2025-08-29T16:44:31.654961",
     "status": "completed"
    },
    "tags": []
   },
   "source": [
    "It is evident that supervised learning is superior to unsupervised learning for such tasks given the labels are readily available. The disparity between the training score and test score raises concerns however, as such models have a tendency to overfit. We will try reducing the size of the training data in decrements of 20% to see if that affects performance."
   ]
  },
  {
   "cell_type": "code",
   "execution_count": 18,
   "id": "4199ae47",
   "metadata": {
    "execution": {
     "iopub.execute_input": "2025-08-29T16:44:31.706326Z",
     "iopub.status.busy": "2025-08-29T16:44:31.705962Z",
     "iopub.status.idle": "2025-08-29T16:44:32.794898Z",
     "shell.execute_reply": "2025-08-29T16:44:32.794110Z"
    },
    "papermill": {
     "duration": 1.107973,
     "end_time": "2025-08-29T16:44:32.796374",
     "exception": false,
     "start_time": "2025-08-29T16:44:31.688401",
     "status": "completed"
    },
    "tags": []
   },
   "outputs": [
    {
     "name": "stdout",
     "output_type": "stream",
     "text": [
      "Training size: 60%\n",
      "Training score: 99.8%\n",
      "Test score: 97.0%\n",
      "\n",
      "Training size: 40%\n",
      "Training score: 99.8%\n",
      "Test score: 96.5%\n",
      "\n",
      "Training size: 20%\n",
      "Training score: 100.0%\n",
      "Test score: 92.4%\n"
     ]
    }
   ],
   "source": [
    "print(\"Training size: 60%\")\n",
    "X_train, X_test, y_train, y_test = train_test_split(train_vectorised, data_train.Category, test_size=.4, random_state=4)\n",
    "clf = LogisticRegression(random_state=4).fit(X_train, y_train)\n",
    "print(\"Training score: %.1f%%\" % (clf.score(X_train, y_train) * 100))\n",
    "print(\"Test score: %.1f%%\" % (clf.score(X_test, y_test) * 100))\n",
    "print(\"\\nTraining size: 40%\")\n",
    "X_train, X_test, y_train, y_test = train_test_split(train_vectorised, data_train.Category, test_size=.6, random_state=4)\n",
    "clf = LogisticRegression(random_state=4).fit(X_train, y_train)\n",
    "print(\"Training score: %.1f%%\" % (clf.score(X_train, y_train) * 100))\n",
    "print(\"Test score: %.1f%%\" % (clf.score(X_test, y_test) * 100))\n",
    "print(\"\\nTraining size: 20%\")\n",
    "X_train, X_test, y_train, y_test = train_test_split(train_vectorised, data_train.Category, test_size=.8, random_state=4)\n",
    "clf = LogisticRegression(random_state=4).fit(X_train, y_train)\n",
    "print(\"Training score: %.1f%%\" % (clf.score(X_train, y_train) * 100))\n",
    "print(\"Test score: %.1f%%\" % (clf.score(X_test, y_test) * 100))"
   ]
  },
  {
   "cell_type": "markdown",
   "id": "2aecf3e8",
   "metadata": {
    "papermill": {
     "duration": 0.017064,
     "end_time": "2025-08-29T16:44:32.906360",
     "exception": false,
     "start_time": "2025-08-29T16:44:32.889296",
     "status": "completed"
    },
    "tags": []
   },
   "source": [
    "Interestingly, both training and test scores both increase by 0.1% at first. It is only when the training dataset is at 20% that the model really suffers from overfitting, with training score being 100% while test score being 92.4%. Thus it can be concluded that the model is indeed vulnerable to overfitting, but has good data-efficiency - only needs around 50% of the dataset to achieve high test scores."
   ]
  },
  {
   "cell_type": "code",
   "execution_count": 19,
   "id": "dc504438",
   "metadata": {
    "execution": {
     "iopub.execute_input": "2025-08-29T16:44:32.929024Z",
     "iopub.status.busy": "2025-08-29T16:44:32.928582Z",
     "iopub.status.idle": "2025-08-29T16:44:33.663344Z",
     "shell.execute_reply": "2025-08-29T16:44:33.662505Z"
    },
    "papermill": {
     "duration": 0.74879,
     "end_time": "2025-08-29T16:44:33.665835",
     "exception": false,
     "start_time": "2025-08-29T16:44:32.917045",
     "status": "completed"
    },
    "tags": []
   },
   "outputs": [
    {
     "name": "stdout",
     "output_type": "stream",
     "text": [
      "Training score: 99.8%\n",
      "Test score: 96.5%\n"
     ]
    }
   ],
   "source": [
    "train_vectorised = best_model[\"vectoriser\"].transform(data_train.Text)\n",
    "X_train, X_test, y_train, y_test = train_test_split(train_vectorised, data_train.Category, test_size=.6, random_state=4)\n",
    "clf = LogisticRegression(random_state=4).fit(X_train, y_train)\n",
    "print(\"Training score: %.1f%%\" % (clf.score(X_train, y_train) * 100))\n",
    "print(\"Test score: %.1f%%\" % (clf.score(X_test, y_test) * 100))"
   ]
  },
  {
   "cell_type": "markdown",
   "id": "3403ec7d",
   "metadata": {
    "papermill": {
     "duration": 0.01711,
     "end_time": "2025-08-29T16:44:33.701398",
     "exception": false,
     "start_time": "2025-08-29T16:44:33.684288",
     "status": "completed"
    },
    "tags": []
   },
   "source": [
    "## References\n",
    "\n",
    "1. [How to apply a custom stemmer before passing the training corpus to TfidfVectorizer in sklearn?](https://stackoverflow.com/questions/48925747/how-to-apply-a-custom-stemmer-before-passing-the-training-corpus-to-tfidfvectori)\n",
    "1. [How does adding/omitting lemmatization affect TF-IDF?](https://stats.stackexchange.com/a/430776)\n",
    "1. [Comparing Apples to Apple: The Effects of Stemmers on Topic Models](https://mimno.infosci.cornell.edu/papers/schofield_tacl_2016.pdf)\n",
    "1. [Sklearn: adding lemmatizer to CountVectorizer](https://stackoverflow.com/questions/47423854/sklearn-adding-lemmatizer-to-countvectorizer)\n",
    "1. [TfidfTransformer](https://scikit-learn.org/stable/modules/generated/sklearn.feature_extraction.text.TfidfTransformer.html)"
   ]
  },
  {
   "cell_type": "code",
   "execution_count": null,
   "id": "89d21f6d",
   "metadata": {
    "papermill": {
     "duration": 0.017433,
     "end_time": "2025-08-29T16:44:33.736529",
     "exception": false,
     "start_time": "2025-08-29T16:44:33.719096",
     "status": "completed"
    },
    "tags": []
   },
   "outputs": [],
   "source": []
  }
 ],
 "metadata": {
  "kaggle": {
   "accelerator": "none",
   "dataSources": [
    {
     "databundleVersionId": 324297,
     "sourceId": 13351,
     "sourceType": "competition"
    }
   ],
   "dockerImageVersionId": 31089,
   "isGpuEnabled": false,
   "isInternetEnabled": true,
   "language": "python",
   "sourceType": "notebook"
  },
  "kernelspec": {
   "display_name": "Python 3",
   "language": "python",
   "name": "python3"
  },
  "language_info": {
   "codemirror_mode": {
    "name": "ipython",
    "version": 3
   },
   "file_extension": ".py",
   "mimetype": "text/x-python",
   "name": "python",
   "nbconvert_exporter": "python",
   "pygments_lexer": "ipython3",
   "version": "3.11.13"
  },
  "papermill": {
   "default_parameters": {},
   "duration": 32.068465,
   "end_time": "2025-08-29T16:44:34.475111",
   "environment_variables": {},
   "exception": null,
   "input_path": "__notebook__.ipynb",
   "output_path": "__notebook__.ipynb",
   "parameters": {},
   "start_time": "2025-08-29T16:44:02.406646",
   "version": "2.6.0"
  }
 },
 "nbformat": 4,
 "nbformat_minor": 5
}
